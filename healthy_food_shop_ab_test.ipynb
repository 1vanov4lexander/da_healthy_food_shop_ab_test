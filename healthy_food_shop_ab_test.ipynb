{
 "cells": [
  {
   "cell_type": "markdown",
   "id": "7c05eb54-da23-4792-a42a-4594636fd559",
   "metadata": {},
   "source": [
    "# Оценка эффективности системы рекомендаций онлайн-магазина здорового питания"
   ]
  },
  {
   "cell_type": "markdown",
   "id": "a4c6f2e9-4f3f-47f2-ace0-a0ccb2dd3d6a",
   "metadata": {},
   "source": [
    "## Описание"
   ]
  },
  {
   "cell_type": "markdown",
   "id": "62cabeca-e7d1-4418-a2f4-87c9a028c95f",
   "metadata": {
    "jupyter": {
     "source_hidden": true
    }
   },
   "source": [
    "В рамках задачи вам будет предложено поставить себя на место аналитика большого онлайн-магазина продуктов здорового питания.\n",
    "\n",
    "У магазина есть приложение, внутри которого реализована рекомендательная система: она подсказывает пользователю, какие товары ему может быть интересно добавить в корзину. Раньше система была реализована довольно прямолинейно: пользователю предлагалось добавить те товары, которые он часто покупал в прошлом. Эту информацию можно получить из истории покупок пользователя.\n",
    "\n",
    "Однако ваши коллеги из отдела разработки алгоритмов машинного обучения создали новую рекомендательную систему на основе нейронных сетей, которая с помощью данных о прошлых покупках пользователя и того, что покупают другие люди, предлагает ему релевантные товары. Важно, что система может рекомендовать не только то, что пользователь и так часто покупает, но и абсолютно новые продукты, которые он раньше никогда не пробовал.\n",
    "\n",
    "Возникает вопрос: действительно ли новый алгоритм работает лучше, чем существующий?\n",
    "\n",
    "Чтобы ответить на него, вы с коллегами провели A/B-эксперимент, в ходе которого контрольная группа пользователей продолжала пользоваться старой версией системы рекомендаций, а экспериментальная группа использовала новый алгоритм. Период проведения эксперимента — с 01.10.2023 по 14.10.2023 включительно.\n",
    "\n",
    "Задача\n",
    "\n",
    "Ваша задача состоит в том, чтобы проанализировать собранные в ходе эксперимента данные и определить, станет ли лучше от использования нового алгоритма рекомендаций."
   ]
  },
  {
   "cell_type": "markdown",
   "id": "f86ba927-e958-4933-971b-f18d53e4da81",
   "metadata": {
    "jupyter": {
     "source_hidden": true
    }
   },
   "source": [
    "**Таблица «user»**\n",
    "\n",
    "В таблице содержится общая информация о пользователях онлайн-магазина.\n",
    "\n",
    "Таблица содержит следующие колонки:\n",
    "\n",
    "«id» — уникальный идентификатор пользователя.\n",
    "\n",
    "«gender» — пол пользователя. Значение «М» соответствует мужскому полу, значение «Ж» — женскому.\n",
    "\n",
    "«age» — возраст пользователя на момент 01.09.2023.\n",
    "\n",
    "«region» — регион, в котором проживает пользователь.\n",
    "\n",
    "\n",
    "**Таблица «user_ab_group»**\n",
    "\n",
    "В таблице содержится информация о том, в какую группу в рамках эксперимента входил тот или иной пользователь. Важно, что в эксперименте участвовали не все пользователи. Поэтому некоторых из них нет в данной таблице.\n",
    "\n",
    "Таблица содержит следующие колонки:\n",
    "\n",
    "«user_id» — идентификатор пользователя.\n",
    "\n",
    "«group» — название группы, в которую входил пользователь в рамках эксперимента. Название «control» соответствует контрольной группе, а «treatment» — экспериментальной.\n",
    "\n",
    "\n",
    "**Таблица «good»**\n",
    "\n",
    "В таблице содержится общая информация о продуктах, которые можно купить в магазине.\n",
    "\n",
    "Таблица содержит следующие колонки:\n",
    "\n",
    "«id» — уникальный идентификатор товара.\n",
    "\n",
    "«good_name» — название товара.\n",
    "\n",
    "«price_per_unit» — цена за одну условную единицу товара.\n",
    "\n",
    "\n",
    "**Таблица «user_purchase»**\n",
    "\n",
    "В таблице содержится информация о покупках, которые совершали пользователи. Важно, что в таблице присутствуют данные и о том, как эти же самые пользователи совершали покупки вне периода проведения эксперимента.\n",
    "\n",
    "Таблица содержит следующие колонки:\n",
    "\n",
    "«id» — уникальный идентификатор покупки.\n",
    "\n",
    "«user_id» — идентификатор пользователя, который совершил эту покупку.\n",
    "\n",
    "«date_time» — момент времени, когда была совершена покупка. Формат представления момента времени: %Y-%m-%d %H:%M:%S.\n",
    "\n",
    "\n",
    "**Таблица «purchase_good»**\n",
    "\n",
    "В таблице содержится информация о товарах, которые входили в список покупок, совершённых пользователями. Каждому товару из конкретной покупки соответствует отдельная строчка в таблице.\n",
    "\n",
    "Таблица содержит следующие колонки:\n",
    "\n",
    "«purchase_id» — идентификатор покупки.\n",
    "\n",
    "«good_id» — идентификатор товара, который входит в эту покупку.\n",
    "\n",
    "«amount» — количество единиц товара, входящих в покупку. Для простоты будем считать, что это всегда целочисленное значение.\n",
    "\n",
    "«was_in_recommended_goods» — значение, которое показывает, был ли приобретённый продукт добавлен в корзину по рекомендации: True — если был, False — если нет."
   ]
  },
  {
   "cell_type": "code",
   "execution_count": 1,
   "id": "adbe76d9-02c4-425d-a234-0968890c206d",
   "metadata": {},
   "outputs": [],
   "source": [
    "import pandas as pd\n",
    "import seaborn as sns\n",
    "import random\n",
    "from scipy import stats"
   ]
  },
  {
   "cell_type": "code",
   "execution_count": 2,
   "id": "6aee9644-bc23-42a4-8c56-a443a68f040c",
   "metadata": {},
   "outputs": [],
   "source": [
    "sns.set(rc={'figure.figsize':(11.7,8.27)})"
   ]
  },
  {
   "cell_type": "markdown",
   "id": "0bdf0a83-c872-4d64-8022-eebd4a0ae79c",
   "metadata": {},
   "source": [
    "## Постановка гипотез"
   ]
  },
  {
   "cell_type": "markdown",
   "id": "76dc5c51-e040-434b-8877-6219191b96cf",
   "metadata": {},
   "source": [
    "H0 - доходы магазина от покупок по рекомендациям контрольной и экспериментальной групп отличаются несущественно\n",
    "\n",
    "H1 - гипотеза H0 неверна\n",
    "\n",
    "Метрика: на сколько процентов выше доход магазина от экспериментальной группы по сравнению с доходом от контрольной группы"
   ]
  },
  {
   "cell_type": "markdown",
   "id": "5343e870-efaa-4943-aa26-ab1a3ed48568",
   "metadata": {},
   "source": [
    "## Предобработка данных"
   ]
  },
  {
   "cell_type": "code",
   "execution_count": 3,
   "id": "290f0586-250e-420a-a7de-b9ac12ba484c",
   "metadata": {},
   "outputs": [],
   "source": [
    "user = pd.read_csv('user.csv')\n",
    "user_ab = pd.read_csv('user_ab_group.csv')\n",
    "good = pd.read_csv('good.csv')\n",
    "user_purchase = pd.read_csv('user_purchase.csv')\n",
    "purchase_good = pd.read_csv('purchase_good.csv')"
   ]
  },
  {
   "cell_type": "code",
   "execution_count": 4,
   "id": "7c3e133d-63cc-41e3-a4ea-e41025eeb34d",
   "metadata": {},
   "outputs": [
    {
     "data": {
      "text/html": [
       "<div>\n",
       "<style scoped>\n",
       "    .dataframe tbody tr th:only-of-type {\n",
       "        vertical-align: middle;\n",
       "    }\n",
       "\n",
       "    .dataframe tbody tr th {\n",
       "        vertical-align: top;\n",
       "    }\n",
       "\n",
       "    .dataframe thead th {\n",
       "        text-align: right;\n",
       "    }\n",
       "</style>\n",
       "<table border=\"1\" class=\"dataframe\">\n",
       "  <thead>\n",
       "    <tr style=\"text-align: right;\">\n",
       "      <th></th>\n",
       "      <th>user_id</th>\n",
       "      <th>gender</th>\n",
       "      <th>age</th>\n",
       "      <th>region</th>\n",
       "    </tr>\n",
       "  </thead>\n",
       "  <tbody>\n",
       "    <tr>\n",
       "      <th>0</th>\n",
       "      <td>1</td>\n",
       "      <td>Ж</td>\n",
       "      <td>23</td>\n",
       "      <td>Краснодарский край</td>\n",
       "    </tr>\n",
       "    <tr>\n",
       "      <th>1</th>\n",
       "      <td>2</td>\n",
       "      <td>Ж</td>\n",
       "      <td>43</td>\n",
       "      <td>Краснодарский край</td>\n",
       "    </tr>\n",
       "    <tr>\n",
       "      <th>2</th>\n",
       "      <td>3</td>\n",
       "      <td>М</td>\n",
       "      <td>36</td>\n",
       "      <td>Краснодарский край</td>\n",
       "    </tr>\n",
       "    <tr>\n",
       "      <th>3</th>\n",
       "      <td>4</td>\n",
       "      <td>Ж</td>\n",
       "      <td>39</td>\n",
       "      <td>Краснодарский край</td>\n",
       "    </tr>\n",
       "    <tr>\n",
       "      <th>4</th>\n",
       "      <td>5</td>\n",
       "      <td>М</td>\n",
       "      <td>43</td>\n",
       "      <td>Иркутская область</td>\n",
       "    </tr>\n",
       "  </tbody>\n",
       "</table>\n",
       "</div>"
      ],
      "text/plain": [
       "   user_id gender  age              region\n",
       "0        1      Ж   23  Краснодарский край\n",
       "1        2      Ж   43  Краснодарский край\n",
       "2        3      М   36  Краснодарский край\n",
       "3        4      Ж   39  Краснодарский край\n",
       "4        5      М   43   Иркутская область"
      ]
     },
     "execution_count": 4,
     "metadata": {},
     "output_type": "execute_result"
    }
   ],
   "source": [
    "user.head()"
   ]
  },
  {
   "cell_type": "code",
   "execution_count": 5,
   "id": "cc64204c-da22-4689-a165-d0dd57973d39",
   "metadata": {},
   "outputs": [
    {
     "name": "stdout",
     "output_type": "stream",
     "text": [
      "<class 'pandas.core.frame.DataFrame'>\n",
      "RangeIndex: 15000 entries, 0 to 14999\n",
      "Data columns (total 4 columns):\n",
      " #   Column   Non-Null Count  Dtype \n",
      "---  ------   --------------  ----- \n",
      " 0   user_id  15000 non-null  int64 \n",
      " 1   gender   15000 non-null  object\n",
      " 2   age      15000 non-null  int64 \n",
      " 3   region   15000 non-null  object\n",
      "dtypes: int64(2), object(2)\n",
      "memory usage: 468.9+ KB\n"
     ]
    },
    {
     "data": {
      "text/plain": [
       "(None,\n",
       " user_id    15000\n",
       " gender         2\n",
       " age           38\n",
       " region         7\n",
       " dtype: int64)"
      ]
     },
     "execution_count": 5,
     "metadata": {},
     "output_type": "execute_result"
    }
   ],
   "source": [
    "user.info(), user.nunique()"
   ]
  },
  {
   "cell_type": "code",
   "execution_count": 6,
   "id": "5de3e7fe-94f1-4d4e-a492-e4b0eb5a1d3f",
   "metadata": {},
   "outputs": [
    {
     "data": {
      "text/plain": [
       "(np.int64(14), np.int64(58))"
      ]
     },
     "execution_count": 6,
     "metadata": {},
     "output_type": "execute_result"
    }
   ],
   "source": [
    "user.age.min(), user.age.max()"
   ]
  },
  {
   "cell_type": "code",
   "execution_count": 7,
   "id": "e2407e1e-5c79-480d-92f8-04a7e31df70c",
   "metadata": {},
   "outputs": [
    {
     "data": {
      "text/html": [
       "<div>\n",
       "<style scoped>\n",
       "    .dataframe tbody tr th:only-of-type {\n",
       "        vertical-align: middle;\n",
       "    }\n",
       "\n",
       "    .dataframe tbody tr th {\n",
       "        vertical-align: top;\n",
       "    }\n",
       "\n",
       "    .dataframe thead th {\n",
       "        text-align: right;\n",
       "    }\n",
       "</style>\n",
       "<table border=\"1\" class=\"dataframe\">\n",
       "  <thead>\n",
       "    <tr style=\"text-align: right;\">\n",
       "      <th></th>\n",
       "      <th>user_id</th>\n",
       "      <th>group</th>\n",
       "    </tr>\n",
       "  </thead>\n",
       "  <tbody>\n",
       "    <tr>\n",
       "      <th>0</th>\n",
       "      <td>5034</td>\n",
       "      <td>treatment</td>\n",
       "    </tr>\n",
       "    <tr>\n",
       "      <th>1</th>\n",
       "      <td>4725</td>\n",
       "      <td>treatment</td>\n",
       "    </tr>\n",
       "    <tr>\n",
       "      <th>2</th>\n",
       "      <td>911</td>\n",
       "      <td>treatment</td>\n",
       "    </tr>\n",
       "    <tr>\n",
       "      <th>3</th>\n",
       "      <td>13267</td>\n",
       "      <td>control</td>\n",
       "    </tr>\n",
       "    <tr>\n",
       "      <th>4</th>\n",
       "      <td>5636</td>\n",
       "      <td>control</td>\n",
       "    </tr>\n",
       "  </tbody>\n",
       "</table>\n",
       "</div>"
      ],
      "text/plain": [
       "   user_id      group\n",
       "0     5034  treatment\n",
       "1     4725  treatment\n",
       "2      911  treatment\n",
       "3    13267    control\n",
       "4     5636    control"
      ]
     },
     "execution_count": 7,
     "metadata": {},
     "output_type": "execute_result"
    }
   ],
   "source": [
    "user_ab.head()"
   ]
  },
  {
   "cell_type": "code",
   "execution_count": 8,
   "id": "de11291e-ba81-4d0f-b79c-898d041b2906",
   "metadata": {},
   "outputs": [
    {
     "name": "stdout",
     "output_type": "stream",
     "text": [
      "<class 'pandas.core.frame.DataFrame'>\n",
      "RangeIndex: 11915 entries, 0 to 11914\n",
      "Data columns (total 2 columns):\n",
      " #   Column   Non-Null Count  Dtype \n",
      "---  ------   --------------  ----- \n",
      " 0   user_id  11915 non-null  int64 \n",
      " 1   group    11915 non-null  object\n",
      "dtypes: int64(1), object(1)\n",
      "memory usage: 186.3+ KB\n"
     ]
    },
    {
     "data": {
      "text/plain": [
       "(None,\n",
       " user_id    11915\n",
       " group          2\n",
       " dtype: int64)"
      ]
     },
     "execution_count": 8,
     "metadata": {},
     "output_type": "execute_result"
    }
   ],
   "source": [
    "user_ab.info(), user_ab.nunique()"
   ]
  },
  {
   "cell_type": "code",
   "execution_count": 9,
   "id": "ff75f6b0-7656-4bb6-995a-07030cc3b4ea",
   "metadata": {},
   "outputs": [
    {
     "data": {
      "text/plain": [
       "user_id    0.989149\n",
       "group      0.989149\n",
       "dtype: float64"
      ]
     },
     "execution_count": 9,
     "metadata": {},
     "output_type": "execute_result"
    }
   ],
   "source": [
    "user_ab[user_ab['group'] == 'control'].count() / user_ab[user_ab['group'] == 'treatment'].count()"
   ]
  },
  {
   "cell_type": "code",
   "execution_count": 10,
   "id": "d96078de-0aac-4908-a173-8e5c77b04ec2",
   "metadata": {},
   "outputs": [
    {
     "data": {
      "text/html": [
       "<div>\n",
       "<style scoped>\n",
       "    .dataframe tbody tr th:only-of-type {\n",
       "        vertical-align: middle;\n",
       "    }\n",
       "\n",
       "    .dataframe tbody tr th {\n",
       "        vertical-align: top;\n",
       "    }\n",
       "\n",
       "    .dataframe thead th {\n",
       "        text-align: right;\n",
       "    }\n",
       "</style>\n",
       "<table border=\"1\" class=\"dataframe\">\n",
       "  <thead>\n",
       "    <tr style=\"text-align: right;\">\n",
       "      <th></th>\n",
       "      <th>id</th>\n",
       "      <th>good_name</th>\n",
       "      <th>price_per_unit</th>\n",
       "    </tr>\n",
       "  </thead>\n",
       "  <tbody>\n",
       "    <tr>\n",
       "      <th>0</th>\n",
       "      <td>1</td>\n",
       "      <td>Органический авокадо</td>\n",
       "      <td>336</td>\n",
       "    </tr>\n",
       "    <tr>\n",
       "      <th>1</th>\n",
       "      <td>2</td>\n",
       "      <td>Льняные семена</td>\n",
       "      <td>796</td>\n",
       "    </tr>\n",
       "    <tr>\n",
       "      <th>2</th>\n",
       "      <td>3</td>\n",
       "      <td>Кокосовое масло Extra Virgin</td>\n",
       "      <td>558</td>\n",
       "    </tr>\n",
       "    <tr>\n",
       "      <th>3</th>\n",
       "      <td>4</td>\n",
       "      <td>Гречка цельнозерновая</td>\n",
       "      <td>484</td>\n",
       "    </tr>\n",
       "    <tr>\n",
       "      <th>4</th>\n",
       "      <td>5</td>\n",
       "      <td>Лосось дикого копчения</td>\n",
       "      <td>480</td>\n",
       "    </tr>\n",
       "  </tbody>\n",
       "</table>\n",
       "</div>"
      ],
      "text/plain": [
       "   id                     good_name  price_per_unit\n",
       "0   1          Органический авокадо             336\n",
       "1   2                Льняные семена             796\n",
       "2   3  Кокосовое масло Extra Virgin             558\n",
       "3   4         Гречка цельнозерновая             484\n",
       "4   5        Лосось дикого копчения             480"
      ]
     },
     "execution_count": 10,
     "metadata": {},
     "output_type": "execute_result"
    }
   ],
   "source": [
    "good.head()"
   ]
  },
  {
   "cell_type": "code",
   "execution_count": 11,
   "id": "c34439ff-8740-498c-8452-fc75817673cc",
   "metadata": {},
   "outputs": [
    {
     "name": "stdout",
     "output_type": "stream",
     "text": [
      "<class 'pandas.core.frame.DataFrame'>\n",
      "RangeIndex: 100 entries, 0 to 99\n",
      "Data columns (total 3 columns):\n",
      " #   Column          Non-Null Count  Dtype \n",
      "---  ------          --------------  ----- \n",
      " 0   id              100 non-null    int64 \n",
      " 1   good_name       100 non-null    object\n",
      " 2   price_per_unit  100 non-null    int64 \n",
      "dtypes: int64(2), object(1)\n",
      "memory usage: 2.5+ KB\n"
     ]
    },
    {
     "data": {
      "text/plain": [
       "(None,\n",
       " id                100\n",
       " good_name         100\n",
       " price_per_unit     87\n",
       " dtype: int64)"
      ]
     },
     "execution_count": 11,
     "metadata": {},
     "output_type": "execute_result"
    }
   ],
   "source": [
    "good.info(), good.nunique()"
   ]
  },
  {
   "cell_type": "code",
   "execution_count": 12,
   "id": "1fd423cb-35db-485a-a5d1-6f4d6945851d",
   "metadata": {},
   "outputs": [
    {
     "data": {
      "text/plain": [
       "(np.int64(299), np.int64(796))"
      ]
     },
     "execution_count": 12,
     "metadata": {},
     "output_type": "execute_result"
    }
   ],
   "source": [
    "good.price_per_unit.min(), good.price_per_unit.max()"
   ]
  },
  {
   "cell_type": "code",
   "execution_count": 13,
   "id": "7eb9e54c-2d86-46ee-a8ba-f4608b921430",
   "metadata": {},
   "outputs": [
    {
     "data": {
      "text/html": [
       "<div>\n",
       "<style scoped>\n",
       "    .dataframe tbody tr th:only-of-type {\n",
       "        vertical-align: middle;\n",
       "    }\n",
       "\n",
       "    .dataframe tbody tr th {\n",
       "        vertical-align: top;\n",
       "    }\n",
       "\n",
       "    .dataframe thead th {\n",
       "        text-align: right;\n",
       "    }\n",
       "</style>\n",
       "<table border=\"1\" class=\"dataframe\">\n",
       "  <thead>\n",
       "    <tr style=\"text-align: right;\">\n",
       "      <th></th>\n",
       "      <th>id</th>\n",
       "      <th>user_id</th>\n",
       "      <th>date_time</th>\n",
       "    </tr>\n",
       "  </thead>\n",
       "  <tbody>\n",
       "    <tr>\n",
       "      <th>0</th>\n",
       "      <td>1</td>\n",
       "      <td>5784</td>\n",
       "      <td>2023-09-20 00:01:07</td>\n",
       "    </tr>\n",
       "    <tr>\n",
       "      <th>1</th>\n",
       "      <td>2</td>\n",
       "      <td>4468</td>\n",
       "      <td>2023-09-20 00:04:18</td>\n",
       "    </tr>\n",
       "    <tr>\n",
       "      <th>2</th>\n",
       "      <td>3</td>\n",
       "      <td>3827</td>\n",
       "      <td>2023-09-20 00:04:35</td>\n",
       "    </tr>\n",
       "    <tr>\n",
       "      <th>3</th>\n",
       "      <td>4</td>\n",
       "      <td>3272</td>\n",
       "      <td>2023-09-20 00:06:32</td>\n",
       "    </tr>\n",
       "    <tr>\n",
       "      <th>4</th>\n",
       "      <td>5</td>\n",
       "      <td>9461</td>\n",
       "      <td>2023-09-20 00:08:24</td>\n",
       "    </tr>\n",
       "  </tbody>\n",
       "</table>\n",
       "</div>"
      ],
      "text/plain": [
       "   id  user_id            date_time\n",
       "0   1     5784  2023-09-20 00:01:07\n",
       "1   2     4468  2023-09-20 00:04:18\n",
       "2   3     3827  2023-09-20 00:04:35\n",
       "3   4     3272  2023-09-20 00:06:32\n",
       "4   5     9461  2023-09-20 00:08:24"
      ]
     },
     "execution_count": 13,
     "metadata": {},
     "output_type": "execute_result"
    }
   ],
   "source": [
    "user_purchase.head()"
   ]
  },
  {
   "cell_type": "code",
   "execution_count": 14,
   "id": "362f9522-b9cd-4de9-9c31-ebaf9b0942ac",
   "metadata": {},
   "outputs": [
    {
     "data": {
      "text/plain": [
       "id            int64\n",
       "user_id       int64\n",
       "date_time    object\n",
       "dtype: object"
      ]
     },
     "execution_count": 14,
     "metadata": {},
     "output_type": "execute_result"
    }
   ],
   "source": [
    "user_purchase.dtypes"
   ]
  },
  {
   "cell_type": "code",
   "execution_count": 15,
   "id": "c44a0880-4ec2-48ff-9b4a-d074df0161be",
   "metadata": {},
   "outputs": [],
   "source": [
    "user_purchase['date_time'] = pd.to_datetime(user_purchase['date_time'], format = '%Y-%m-%d %H:%M:%S')"
   ]
  },
  {
   "cell_type": "code",
   "execution_count": 16,
   "id": "f42bbc0b-a6f0-49e3-b68a-66b73ff323b9",
   "metadata": {},
   "outputs": [
    {
     "data": {
      "text/plain": [
       "(   id  user_id           date_time\n",
       " 0   1     5784 2023-09-20 00:01:07\n",
       " 1   2     4468 2023-09-20 00:04:18\n",
       " 2   3     3827 2023-09-20 00:04:35\n",
       " 3   4     3272 2023-09-20 00:06:32\n",
       " 4   5     9461 2023-09-20 00:08:24,\n",
       " id                    int64\n",
       " user_id               int64\n",
       " date_time    datetime64[ns]\n",
       " dtype: object)"
      ]
     },
     "execution_count": 16,
     "metadata": {},
     "output_type": "execute_result"
    }
   ],
   "source": [
    "user_purchase.head(), user_purchase.dtypes"
   ]
  },
  {
   "cell_type": "code",
   "execution_count": 17,
   "id": "b57d6fce-cdca-45fe-868b-16586b9221b1",
   "metadata": {},
   "outputs": [
    {
     "data": {
      "text/plain": [
       "(Timestamp('2023-09-20 00:01:07'), Timestamp('2023-11-28 23:57:51'))"
      ]
     },
     "execution_count": 17,
     "metadata": {},
     "output_type": "execute_result"
    }
   ],
   "source": [
    "user_purchase['date_time'].min(), user_purchase['date_time'].max()"
   ]
  },
  {
   "cell_type": "markdown",
   "id": "1408bbf5-c493-4e2a-ad7d-a3a7f04a14aa",
   "metadata": {},
   "source": [
    "Эксперимент был с 1 по 14 открября включительно, поэтому убираем лишние покупки из списка"
   ]
  },
  {
   "cell_type": "code",
   "execution_count": 18,
   "id": "53c43938-66f9-4b3a-a7d9-f2a0633b85a6",
   "metadata": {},
   "outputs": [],
   "source": [
    "user_purchase = user_purchase[(user_purchase['date_time'] >= pd.Timestamp('2023-10-01 00:00:00')) & (user_purchase['date_time'] < pd.Timestamp('2023-10-15 00:00:00'))]"
   ]
  },
  {
   "cell_type": "code",
   "execution_count": 19,
   "id": "75f0a8d4-e8ef-4ad6-ade2-e5c88773840a",
   "metadata": {},
   "outputs": [
    {
     "data": {
      "text/plain": [
       "(Timestamp('2023-10-01 00:02:06'), Timestamp('2023-10-14 23:58:28'))"
      ]
     },
     "execution_count": 19,
     "metadata": {},
     "output_type": "execute_result"
    }
   ],
   "source": [
    "user_purchase['date_time'].min(), user_purchase['date_time'].max()"
   ]
  },
  {
   "cell_type": "code",
   "execution_count": 20,
   "id": "1d2c2bc0-9e26-4a7b-a8af-a0f19b8f5554",
   "metadata": {},
   "outputs": [],
   "source": [
    "purchase_good = pd.read_csv('purchase_good.csv')"
   ]
  },
  {
   "cell_type": "code",
   "execution_count": 21,
   "id": "b11ca254-3bd6-4d2c-9ec6-74bcb8229859",
   "metadata": {},
   "outputs": [
    {
     "data": {
      "text/html": [
       "<div>\n",
       "<style scoped>\n",
       "    .dataframe tbody tr th:only-of-type {\n",
       "        vertical-align: middle;\n",
       "    }\n",
       "\n",
       "    .dataframe tbody tr th {\n",
       "        vertical-align: top;\n",
       "    }\n",
       "\n",
       "    .dataframe thead th {\n",
       "        text-align: right;\n",
       "    }\n",
       "</style>\n",
       "<table border=\"1\" class=\"dataframe\">\n",
       "  <thead>\n",
       "    <tr style=\"text-align: right;\">\n",
       "      <th></th>\n",
       "      <th>purchase_id</th>\n",
       "      <th>good_id</th>\n",
       "      <th>amount</th>\n",
       "      <th>was_in_recommended_goods</th>\n",
       "    </tr>\n",
       "  </thead>\n",
       "  <tbody>\n",
       "    <tr>\n",
       "      <th>0</th>\n",
       "      <td>15495</td>\n",
       "      <td>34</td>\n",
       "      <td>2</td>\n",
       "      <td>False</td>\n",
       "    </tr>\n",
       "    <tr>\n",
       "      <th>1</th>\n",
       "      <td>42640</td>\n",
       "      <td>48</td>\n",
       "      <td>1</td>\n",
       "      <td>False</td>\n",
       "    </tr>\n",
       "    <tr>\n",
       "      <th>2</th>\n",
       "      <td>42640</td>\n",
       "      <td>36</td>\n",
       "      <td>1</td>\n",
       "      <td>False</td>\n",
       "    </tr>\n",
       "    <tr>\n",
       "      <th>3</th>\n",
       "      <td>42640</td>\n",
       "      <td>12</td>\n",
       "      <td>2</td>\n",
       "      <td>True</td>\n",
       "    </tr>\n",
       "    <tr>\n",
       "      <th>4</th>\n",
       "      <td>42640</td>\n",
       "      <td>35</td>\n",
       "      <td>1</td>\n",
       "      <td>True</td>\n",
       "    </tr>\n",
       "  </tbody>\n",
       "</table>\n",
       "</div>"
      ],
      "text/plain": [
       "   purchase_id  good_id  amount  was_in_recommended_goods\n",
       "0        15495       34       2                     False\n",
       "1        42640       48       1                     False\n",
       "2        42640       36       1                     False\n",
       "3        42640       12       2                      True\n",
       "4        42640       35       1                      True"
      ]
     },
     "execution_count": 21,
     "metadata": {},
     "output_type": "execute_result"
    }
   ],
   "source": [
    "purchase_good.head()"
   ]
  },
  {
   "cell_type": "markdown",
   "id": "7a419294-1107-44a2-8302-6eed3bd6a630",
   "metadata": {},
   "source": [
    "В задаче требуется проанализировать систему рекомендаций, поэтому отсеим was_in_recommended_goods = True. Также отсеим покупки, сделанные во время проведения эксперимента"
   ]
  },
  {
   "cell_type": "code",
   "execution_count": 22,
   "id": "c3964188-484f-4d37-a99a-da14574e30fb",
   "metadata": {},
   "outputs": [
    {
     "name": "stdout",
     "output_type": "stream",
     "text": [
      "<class 'pandas.core.frame.DataFrame'>\n",
      "RangeIndex: 352057 entries, 0 to 352056\n",
      "Data columns (total 4 columns):\n",
      " #   Column                    Non-Null Count   Dtype\n",
      "---  ------                    --------------   -----\n",
      " 0   purchase_id               352057 non-null  int64\n",
      " 1   good_id                   352057 non-null  int64\n",
      " 2   amount                    352057 non-null  int64\n",
      " 3   was_in_recommended_goods  352057 non-null  bool \n",
      "dtypes: bool(1), int64(3)\n",
      "memory usage: 8.4 MB\n"
     ]
    },
    {
     "data": {
      "text/plain": [
       "(None,\n",
       " purchase_id                 74951\n",
       " good_id                       100\n",
       " amount                          5\n",
       " was_in_recommended_goods        2\n",
       " dtype: int64,\n",
       " purchase_id                 int64\n",
       " good_id                     int64\n",
       " amount                      int64\n",
       " was_in_recommended_goods     bool\n",
       " dtype: object)"
      ]
     },
     "execution_count": 22,
     "metadata": {},
     "output_type": "execute_result"
    }
   ],
   "source": [
    "purchase_good.info(), purchase_good.nunique(), purchase_good.dtypes"
   ]
  },
  {
   "cell_type": "code",
   "execution_count": 23,
   "id": "2ef32c3b-487b-4d37-8581-10866c208e41",
   "metadata": {},
   "outputs": [],
   "source": [
    "purchase_good = purchase_good[(purchase_good['was_in_recommended_goods'] == True) & (purchase_good['purchase_id'].isin(user_purchase['id']))].drop(columns = 'was_in_recommended_goods')"
   ]
  },
  {
   "cell_type": "code",
   "execution_count": 24,
   "id": "a1d4b030-79ed-413f-8953-d8ed4ec83b2a",
   "metadata": {},
   "outputs": [
    {
     "name": "stdout",
     "output_type": "stream",
     "text": [
      "<class 'pandas.core.frame.DataFrame'>\n",
      "Index: 31963 entries, 11 to 352032\n",
      "Data columns (total 3 columns):\n",
      " #   Column       Non-Null Count  Dtype\n",
      "---  ------       --------------  -----\n",
      " 0   purchase_id  31963 non-null  int64\n",
      " 1   good_id      31963 non-null  int64\n",
      " 2   amount       31963 non-null  int64\n",
      "dtypes: int64(3)\n",
      "memory usage: 998.8 KB\n"
     ]
    },
    {
     "data": {
      "text/plain": [
       "(None,\n",
       " purchase_id    11014\n",
       " good_id          100\n",
       " amount             4\n",
       " dtype: int64,\n",
       " purchase_id    int64\n",
       " good_id        int64\n",
       " amount         int64\n",
       " dtype: object)"
      ]
     },
     "execution_count": 24,
     "metadata": {},
     "output_type": "execute_result"
    }
   ],
   "source": [
    "purchase_good.info(), purchase_good.nunique(), purchase_good.dtypes"
   ]
  },
  {
   "cell_type": "markdown",
   "id": "cda84289-2bba-428c-9b6b-24ea4de28381",
   "metadata": {},
   "source": [
    "## Обработка данных"
   ]
  },
  {
   "cell_type": "markdown",
   "id": "2b48f121-21ba-4dbb-93f3-51c40b0aa32c",
   "metadata": {},
   "source": [
    "Посчитаем суммарные доходы от покупок по рекомендациям у контрольной и тестовой групп"
   ]
  },
  {
   "cell_type": "code",
   "execution_count": 25,
   "id": "ccf0b73c-0665-4b1a-8fd3-013c5e8867c5",
   "metadata": {},
   "outputs": [],
   "source": [
    "purchase = purchase_good.merge(user_purchase, left_on = 'purchase_id', right_on = 'id', how = 'left')"
   ]
  },
  {
   "cell_type": "code",
   "execution_count": 26,
   "id": "1946df8e-5ec5-45bd-9d5a-37f93802893e",
   "metadata": {},
   "outputs": [
    {
     "data": {
      "text/html": [
       "<div>\n",
       "<style scoped>\n",
       "    .dataframe tbody tr th:only-of-type {\n",
       "        vertical-align: middle;\n",
       "    }\n",
       "\n",
       "    .dataframe tbody tr th {\n",
       "        vertical-align: top;\n",
       "    }\n",
       "\n",
       "    .dataframe thead th {\n",
       "        text-align: right;\n",
       "    }\n",
       "</style>\n",
       "<table border=\"1\" class=\"dataframe\">\n",
       "  <thead>\n",
       "    <tr style=\"text-align: right;\">\n",
       "      <th></th>\n",
       "      <th>purchase_id</th>\n",
       "      <th>good_id</th>\n",
       "      <th>amount</th>\n",
       "      <th>id</th>\n",
       "      <th>user_id</th>\n",
       "      <th>date_time</th>\n",
       "    </tr>\n",
       "  </thead>\n",
       "  <tbody>\n",
       "    <tr>\n",
       "      <th>0</th>\n",
       "      <td>20107</td>\n",
       "      <td>6</td>\n",
       "      <td>1</td>\n",
       "      <td>20107</td>\n",
       "      <td>2</td>\n",
       "      <td>2023-10-08 19:23:44</td>\n",
       "    </tr>\n",
       "    <tr>\n",
       "      <th>1</th>\n",
       "      <td>20107</td>\n",
       "      <td>36</td>\n",
       "      <td>1</td>\n",
       "      <td>20107</td>\n",
       "      <td>2</td>\n",
       "      <td>2023-10-08 19:23:44</td>\n",
       "    </tr>\n",
       "    <tr>\n",
       "      <th>2</th>\n",
       "      <td>20107</td>\n",
       "      <td>10</td>\n",
       "      <td>2</td>\n",
       "      <td>20107</td>\n",
       "      <td>2</td>\n",
       "      <td>2023-10-08 19:23:44</td>\n",
       "    </tr>\n",
       "    <tr>\n",
       "      <th>3</th>\n",
       "      <td>20107</td>\n",
       "      <td>29</td>\n",
       "      <td>1</td>\n",
       "      <td>20107</td>\n",
       "      <td>2</td>\n",
       "      <td>2023-10-08 19:23:44</td>\n",
       "    </tr>\n",
       "    <tr>\n",
       "      <th>4</th>\n",
       "      <td>20107</td>\n",
       "      <td>27</td>\n",
       "      <td>1</td>\n",
       "      <td>20107</td>\n",
       "      <td>2</td>\n",
       "      <td>2023-10-08 19:23:44</td>\n",
       "    </tr>\n",
       "  </tbody>\n",
       "</table>\n",
       "</div>"
      ],
      "text/plain": [
       "   purchase_id  good_id  amount     id  user_id           date_time\n",
       "0        20107        6       1  20107        2 2023-10-08 19:23:44\n",
       "1        20107       36       1  20107        2 2023-10-08 19:23:44\n",
       "2        20107       10       2  20107        2 2023-10-08 19:23:44\n",
       "3        20107       29       1  20107        2 2023-10-08 19:23:44\n",
       "4        20107       27       1  20107        2 2023-10-08 19:23:44"
      ]
     },
     "execution_count": 26,
     "metadata": {},
     "output_type": "execute_result"
    }
   ],
   "source": [
    "purchase.head()"
   ]
  },
  {
   "cell_type": "code",
   "execution_count": 27,
   "id": "1406714f-7e54-4108-8157-6ae8d9de812e",
   "metadata": {},
   "outputs": [],
   "source": [
    "purchase = purchase[['id', 'good_id', 'amount', 'user_id']]"
   ]
  },
  {
   "cell_type": "code",
   "execution_count": 28,
   "id": "7b1ba0cb-e0ff-4ae0-b39a-c99a2176eada",
   "metadata": {},
   "outputs": [
    {
     "data": {
      "text/html": [
       "<div>\n",
       "<style scoped>\n",
       "    .dataframe tbody tr th:only-of-type {\n",
       "        vertical-align: middle;\n",
       "    }\n",
       "\n",
       "    .dataframe tbody tr th {\n",
       "        vertical-align: top;\n",
       "    }\n",
       "\n",
       "    .dataframe thead th {\n",
       "        text-align: right;\n",
       "    }\n",
       "</style>\n",
       "<table border=\"1\" class=\"dataframe\">\n",
       "  <thead>\n",
       "    <tr style=\"text-align: right;\">\n",
       "      <th></th>\n",
       "      <th>id</th>\n",
       "      <th>good_id</th>\n",
       "      <th>amount</th>\n",
       "      <th>user_id</th>\n",
       "    </tr>\n",
       "  </thead>\n",
       "  <tbody>\n",
       "    <tr>\n",
       "      <th>0</th>\n",
       "      <td>20107</td>\n",
       "      <td>6</td>\n",
       "      <td>1</td>\n",
       "      <td>2</td>\n",
       "    </tr>\n",
       "    <tr>\n",
       "      <th>1</th>\n",
       "      <td>20107</td>\n",
       "      <td>36</td>\n",
       "      <td>1</td>\n",
       "      <td>2</td>\n",
       "    </tr>\n",
       "    <tr>\n",
       "      <th>2</th>\n",
       "      <td>20107</td>\n",
       "      <td>10</td>\n",
       "      <td>2</td>\n",
       "      <td>2</td>\n",
       "    </tr>\n",
       "    <tr>\n",
       "      <th>3</th>\n",
       "      <td>20107</td>\n",
       "      <td>29</td>\n",
       "      <td>1</td>\n",
       "      <td>2</td>\n",
       "    </tr>\n",
       "    <tr>\n",
       "      <th>4</th>\n",
       "      <td>20107</td>\n",
       "      <td>27</td>\n",
       "      <td>1</td>\n",
       "      <td>2</td>\n",
       "    </tr>\n",
       "  </tbody>\n",
       "</table>\n",
       "</div>"
      ],
      "text/plain": [
       "      id  good_id  amount  user_id\n",
       "0  20107        6       1        2\n",
       "1  20107       36       1        2\n",
       "2  20107       10       2        2\n",
       "3  20107       29       1        2\n",
       "4  20107       27       1        2"
      ]
     },
     "execution_count": 28,
     "metadata": {},
     "output_type": "execute_result"
    }
   ],
   "source": [
    "purchase.head()"
   ]
  },
  {
   "cell_type": "code",
   "execution_count": 29,
   "id": "574ea2b8-ff71-4463-b5c3-0c0227c15ff3",
   "metadata": {},
   "outputs": [],
   "source": [
    "purchase = purchase.merge(good, left_on = 'good_id', right_on = 'id', how = 'left')"
   ]
  },
  {
   "cell_type": "code",
   "execution_count": 30,
   "id": "02b9d163-caca-4525-845d-c072df8670b7",
   "metadata": {},
   "outputs": [
    {
     "data": {
      "text/html": [
       "<div>\n",
       "<style scoped>\n",
       "    .dataframe tbody tr th:only-of-type {\n",
       "        vertical-align: middle;\n",
       "    }\n",
       "\n",
       "    .dataframe tbody tr th {\n",
       "        vertical-align: top;\n",
       "    }\n",
       "\n",
       "    .dataframe thead th {\n",
       "        text-align: right;\n",
       "    }\n",
       "</style>\n",
       "<table border=\"1\" class=\"dataframe\">\n",
       "  <thead>\n",
       "    <tr style=\"text-align: right;\">\n",
       "      <th></th>\n",
       "      <th>id_x</th>\n",
       "      <th>good_id</th>\n",
       "      <th>amount</th>\n",
       "      <th>user_id</th>\n",
       "      <th>id_y</th>\n",
       "      <th>good_name</th>\n",
       "      <th>price_per_unit</th>\n",
       "    </tr>\n",
       "  </thead>\n",
       "  <tbody>\n",
       "    <tr>\n",
       "      <th>0</th>\n",
       "      <td>20107</td>\n",
       "      <td>6</td>\n",
       "      <td>1</td>\n",
       "      <td>2</td>\n",
       "      <td>6</td>\n",
       "      <td>Греческий йогурт с низким содержанием жира</td>\n",
       "      <td>426</td>\n",
       "    </tr>\n",
       "    <tr>\n",
       "      <th>1</th>\n",
       "      <td>20107</td>\n",
       "      <td>36</td>\n",
       "      <td>1</td>\n",
       "      <td>2</td>\n",
       "      <td>36</td>\n",
       "      <td>Льняные хлопья</td>\n",
       "      <td>404</td>\n",
       "    </tr>\n",
       "    <tr>\n",
       "      <th>2</th>\n",
       "      <td>20107</td>\n",
       "      <td>10</td>\n",
       "      <td>2</td>\n",
       "      <td>2</td>\n",
       "      <td>10</td>\n",
       "      <td>Мед манука</td>\n",
       "      <td>497</td>\n",
       "    </tr>\n",
       "    <tr>\n",
       "      <th>3</th>\n",
       "      <td>20107</td>\n",
       "      <td>29</td>\n",
       "      <td>1</td>\n",
       "      <td>2</td>\n",
       "      <td>29</td>\n",
       "      <td>Кокосовая вода</td>\n",
       "      <td>432</td>\n",
       "    </tr>\n",
       "    <tr>\n",
       "      <th>4</th>\n",
       "      <td>20107</td>\n",
       "      <td>27</td>\n",
       "      <td>1</td>\n",
       "      <td>2</td>\n",
       "      <td>27</td>\n",
       "      <td>Ягоды годжи</td>\n",
       "      <td>587</td>\n",
       "    </tr>\n",
       "  </tbody>\n",
       "</table>\n",
       "</div>"
      ],
      "text/plain": [
       "    id_x  good_id  amount  user_id  id_y  \\\n",
       "0  20107        6       1        2     6   \n",
       "1  20107       36       1        2    36   \n",
       "2  20107       10       2        2    10   \n",
       "3  20107       29       1        2    29   \n",
       "4  20107       27       1        2    27   \n",
       "\n",
       "                                    good_name  price_per_unit  \n",
       "0  Греческий йогурт с низким содержанием жира             426  \n",
       "1                              Льняные хлопья             404  \n",
       "2                                  Мед манука             497  \n",
       "3                              Кокосовая вода             432  \n",
       "4                                 Ягоды годжи             587  "
      ]
     },
     "execution_count": 30,
     "metadata": {},
     "output_type": "execute_result"
    }
   ],
   "source": [
    "purchase.head()"
   ]
  },
  {
   "cell_type": "code",
   "execution_count": 31,
   "id": "61977344-3c50-491b-ad64-d9a9edb40532",
   "metadata": {},
   "outputs": [],
   "source": [
    "purchase = purchase[['id_x', 'price_per_unit', 'amount', 'user_id']].copy()"
   ]
  },
  {
   "cell_type": "code",
   "execution_count": 32,
   "id": "593f9008-a90e-4638-a8ac-b335150c8ea0",
   "metadata": {},
   "outputs": [],
   "source": [
    "purchase['profit'] = purchase['price_per_unit'] * purchase['amount']"
   ]
  },
  {
   "cell_type": "code",
   "execution_count": 34,
   "id": "a4c13776-6c8f-4df2-8bbd-a8b584501eaa",
   "metadata": {},
   "outputs": [],
   "source": [
    "purchase = purchase.rename(columns = {'id_x': 'id'})"
   ]
  },
  {
   "cell_type": "code",
   "execution_count": 35,
   "id": "469d06b9-3794-4cde-b052-1ef47c67522b",
   "metadata": {},
   "outputs": [
    {
     "data": {
      "text/html": [
       "<div>\n",
       "<style scoped>\n",
       "    .dataframe tbody tr th:only-of-type {\n",
       "        vertical-align: middle;\n",
       "    }\n",
       "\n",
       "    .dataframe tbody tr th {\n",
       "        vertical-align: top;\n",
       "    }\n",
       "\n",
       "    .dataframe thead th {\n",
       "        text-align: right;\n",
       "    }\n",
       "</style>\n",
       "<table border=\"1\" class=\"dataframe\">\n",
       "  <thead>\n",
       "    <tr style=\"text-align: right;\">\n",
       "      <th></th>\n",
       "      <th>id</th>\n",
       "      <th>price_per_unit</th>\n",
       "      <th>amount</th>\n",
       "      <th>user_id</th>\n",
       "      <th>profit</th>\n",
       "    </tr>\n",
       "  </thead>\n",
       "  <tbody>\n",
       "    <tr>\n",
       "      <th>0</th>\n",
       "      <td>20107</td>\n",
       "      <td>426</td>\n",
       "      <td>1</td>\n",
       "      <td>2</td>\n",
       "      <td>426</td>\n",
       "    </tr>\n",
       "    <tr>\n",
       "      <th>1</th>\n",
       "      <td>20107</td>\n",
       "      <td>404</td>\n",
       "      <td>1</td>\n",
       "      <td>2</td>\n",
       "      <td>404</td>\n",
       "    </tr>\n",
       "    <tr>\n",
       "      <th>2</th>\n",
       "      <td>20107</td>\n",
       "      <td>497</td>\n",
       "      <td>2</td>\n",
       "      <td>2</td>\n",
       "      <td>994</td>\n",
       "    </tr>\n",
       "  </tbody>\n",
       "</table>\n",
       "</div>"
      ],
      "text/plain": [
       "      id  price_per_unit  amount  user_id  profit\n",
       "0  20107             426       1        2     426\n",
       "1  20107             404       1        2     404\n",
       "2  20107             497       2        2     994"
      ]
     },
     "execution_count": 35,
     "metadata": {},
     "output_type": "execute_result"
    }
   ],
   "source": [
    "purchase.head(3)"
   ]
  },
  {
   "cell_type": "code",
   "execution_count": 36,
   "id": "d474d962-de0b-49eb-9773-bf701049fd8a",
   "metadata": {},
   "outputs": [],
   "source": [
    "purchase = purchase.merge(user_ab, left_on = 'user_id', right_on = 'user_id', how = 'left')"
   ]
  },
  {
   "cell_type": "code",
   "execution_count": 37,
   "id": "3e8cc0f4-3729-48a0-b27e-ff0dd67035f7",
   "metadata": {},
   "outputs": [
    {
     "data": {
      "text/html": [
       "<div>\n",
       "<style scoped>\n",
       "    .dataframe tbody tr th:only-of-type {\n",
       "        vertical-align: middle;\n",
       "    }\n",
       "\n",
       "    .dataframe tbody tr th {\n",
       "        vertical-align: top;\n",
       "    }\n",
       "\n",
       "    .dataframe thead th {\n",
       "        text-align: right;\n",
       "    }\n",
       "</style>\n",
       "<table border=\"1\" class=\"dataframe\">\n",
       "  <thead>\n",
       "    <tr style=\"text-align: right;\">\n",
       "      <th></th>\n",
       "      <th>id</th>\n",
       "      <th>price_per_unit</th>\n",
       "      <th>amount</th>\n",
       "      <th>user_id</th>\n",
       "      <th>profit</th>\n",
       "      <th>group</th>\n",
       "    </tr>\n",
       "  </thead>\n",
       "  <tbody>\n",
       "    <tr>\n",
       "      <th>0</th>\n",
       "      <td>20107</td>\n",
       "      <td>426</td>\n",
       "      <td>1</td>\n",
       "      <td>2</td>\n",
       "      <td>426</td>\n",
       "      <td>treatment</td>\n",
       "    </tr>\n",
       "    <tr>\n",
       "      <th>1</th>\n",
       "      <td>20107</td>\n",
       "      <td>404</td>\n",
       "      <td>1</td>\n",
       "      <td>2</td>\n",
       "      <td>404</td>\n",
       "      <td>treatment</td>\n",
       "    </tr>\n",
       "    <tr>\n",
       "      <th>2</th>\n",
       "      <td>20107</td>\n",
       "      <td>497</td>\n",
       "      <td>2</td>\n",
       "      <td>2</td>\n",
       "      <td>994</td>\n",
       "      <td>treatment</td>\n",
       "    </tr>\n",
       "    <tr>\n",
       "      <th>3</th>\n",
       "      <td>20107</td>\n",
       "      <td>432</td>\n",
       "      <td>1</td>\n",
       "      <td>2</td>\n",
       "      <td>432</td>\n",
       "      <td>treatment</td>\n",
       "    </tr>\n",
       "    <tr>\n",
       "      <th>4</th>\n",
       "      <td>20107</td>\n",
       "      <td>587</td>\n",
       "      <td>1</td>\n",
       "      <td>2</td>\n",
       "      <td>587</td>\n",
       "      <td>treatment</td>\n",
       "    </tr>\n",
       "  </tbody>\n",
       "</table>\n",
       "</div>"
      ],
      "text/plain": [
       "      id  price_per_unit  amount  user_id  profit      group\n",
       "0  20107             426       1        2     426  treatment\n",
       "1  20107             404       1        2     404  treatment\n",
       "2  20107             497       2        2     994  treatment\n",
       "3  20107             432       1        2     432  treatment\n",
       "4  20107             587       1        2     587  treatment"
      ]
     },
     "execution_count": 37,
     "metadata": {},
     "output_type": "execute_result"
    }
   ],
   "source": [
    "purchase.head()"
   ]
  },
  {
   "cell_type": "code",
   "execution_count": 38,
   "id": "09b425cf-8722-4929-98e5-42c6e9aa57dc",
   "metadata": {},
   "outputs": [
    {
     "data": {
      "text/plain": [
       "(3132, 3916)"
      ]
     },
     "execution_count": 38,
     "metadata": {},
     "output_type": "execute_result"
    }
   ],
   "source": [
    "purchase[purchase['group'] == 'control']['user_id'].nunique(), purchase[purchase['group'] == 'treatment']['user_id'].nunique()"
   ]
  },
  {
   "cell_type": "markdown",
   "id": "b888985c-cb42-4966-aa11-f0eb33ec3546",
   "metadata": {},
   "source": [
    "Заметим, что размер выборок разный, поэтому вторая группа могла принести больше прибыли из-за количества людей, а не из-за новой системы"
   ]
  },
  {
   "cell_type": "code",
   "execution_count": 39,
   "id": "b00079c8-714d-4494-a69f-d476592cea32",
   "metadata": {},
   "outputs": [
    {
     "data": {
      "text/plain": [
       "(np.int64(299), np.int64(3184))"
      ]
     },
     "execution_count": 39,
     "metadata": {},
     "output_type": "execute_result"
    }
   ],
   "source": [
    "purchase['profit'].min(), purchase['profit'].max()"
   ]
  },
  {
   "cell_type": "code",
   "execution_count": 40,
   "id": "42ca23ca-e494-4031-8b3a-79e4157c0bbf",
   "metadata": {},
   "outputs": [
    {
     "data": {
      "text/html": [
       "<div>\n",
       "<style scoped>\n",
       "    .dataframe tbody tr th:only-of-type {\n",
       "        vertical-align: middle;\n",
       "    }\n",
       "\n",
       "    .dataframe tbody tr th {\n",
       "        vertical-align: top;\n",
       "    }\n",
       "\n",
       "    .dataframe thead th {\n",
       "        text-align: right;\n",
       "    }\n",
       "</style>\n",
       "<table border=\"1\" class=\"dataframe\">\n",
       "  <thead>\n",
       "    <tr style=\"text-align: right;\">\n",
       "      <th></th>\n",
       "      <th>group</th>\n",
       "      <th>profit</th>\n",
       "    </tr>\n",
       "  </thead>\n",
       "  <tbody>\n",
       "    <tr>\n",
       "      <th>0</th>\n",
       "      <td>control</td>\n",
       "      <td>4738958</td>\n",
       "    </tr>\n",
       "    <tr>\n",
       "      <th>1</th>\n",
       "      <td>treatment</td>\n",
       "      <td>11855115</td>\n",
       "    </tr>\n",
       "  </tbody>\n",
       "</table>\n",
       "</div>"
      ],
      "text/plain": [
       "       group    profit\n",
       "0    control   4738958\n",
       "1  treatment  11855115"
      ]
     },
     "execution_count": 40,
     "metadata": {},
     "output_type": "execute_result"
    }
   ],
   "source": [
    "purchase.groupby('group', as_index = False).agg({'profit': 'sum'})"
   ]
  },
  {
   "cell_type": "code",
   "execution_count": 41,
   "id": "87a10a49-e638-48b9-a399-13339a9ee032",
   "metadata": {},
   "outputs": [
    {
     "data": {
      "text/plain": [
       "150"
      ]
     },
     "execution_count": 41,
     "metadata": {},
     "output_type": "execute_result"
    }
   ],
   "source": [
    "round((11855115 - 4738958) / 4738958 * 100)"
   ]
  },
  {
   "cell_type": "markdown",
   "id": "7145f9ce-2382-48c7-948e-23b08bf24fbc",
   "metadata": {},
   "source": [
    "Если рассмотреть доходы магазина со всех пользователей из каждой группы, то перевес в сторону новой системы очевиден (доход с экспериментальной группы на 150% выше)\n",
    "\n",
    "Рассмотрим равные по объёму выборки из данных совокупностей"
   ]
  },
  {
   "cell_type": "code",
   "execution_count": 42,
   "id": "f03cdb08-ff0e-4976-9434-235e948827e2",
   "metadata": {},
   "outputs": [],
   "source": [
    "random_number_gen = random.Random()"
   ]
  },
  {
   "cell_type": "code",
   "execution_count": 43,
   "id": "9e1bcded-a79b-4012-9697-c1d9565dc3d8",
   "metadata": {},
   "outputs": [],
   "source": [
    "group_c = []\n",
    "group_t = []\n",
    "differences = []\n",
    "id_c_l = purchase[purchase['group'] == 'control']['id'].to_list()\n",
    "id_t_l = purchase[purchase['group'] == 'treatment']['id'].to_list()\n",
    "\n",
    "for _ in range(1000):\n",
    "    profit_c = purchase[purchase['id'].isin(random_number_gen.sample(id_c_l, 400))]['profit'].sum()\n",
    "    profit_t = purchase[purchase['id'].isin(random_number_gen.sample(id_t_l, 400))]['profit'].sum()\n",
    "\n",
    "    group_c += [profit_c]\n",
    "    group_t += [profit_t]\n",
    "    differences += [(profit_t - profit_c) / profit_c * 100]"
   ]
  },
  {
   "cell_type": "code",
   "execution_count": 44,
   "id": "25933690-f353-4b02-ae90-24a60a61d0a3",
   "metadata": {},
   "outputs": [
    {
     "data": {
      "text/plain": [
       "1000"
      ]
     },
     "execution_count": 44,
     "metadata": {},
     "output_type": "execute_result"
    }
   ],
   "source": [
    "len(differences)"
   ]
  },
  {
   "cell_type": "code",
   "execution_count": 45,
   "id": "4f537cd0-28f7-4793-95f1-4b212985a901",
   "metadata": {},
   "outputs": [
    {
     "data": {
      "text/plain": [
       "<Axes: ylabel='Count'>"
      ]
     },
     "execution_count": 45,
     "metadata": {},
     "output_type": "execute_result"
    },
    {
     "data": {
      "image/png": "[encoded data removed]",
      "text/plain": [
       "<Figure size 1170x827 with 1 Axes>"
      ]
     },
     "metadata": {},
     "output_type": "display_data"
    }
   ],
   "source": [
    "sns.histplot(differences)"
   ]
  },
  {
   "cell_type": "code",
   "execution_count": 46,
   "id": "1cdfb304-3d19-44ca-9f1f-4cc2e061f3c0",
   "metadata": {},
   "outputs": [
    {
     "data": {
      "text/plain": [
       "np.float64(99.5860709406338)"
      ]
     },
     "execution_count": 46,
     "metadata": {},
     "output_type": "execute_result"
    }
   ],
   "source": [
    "pd.Series(differences).mean()"
   ]
  },
  {
   "cell_type": "markdown",
   "id": "a67d35d3-e2b8-4ea6-a7be-78996114da3c",
   "metadata": {},
   "source": [
    "## Вывод"
   ]
  },
  {
   "cell_type": "markdown",
   "id": "34781f72-7d02-4706-b260-c109945237c6",
   "metadata": {},
   "source": [
    "Новая рекомендательная система в среднем показывает на 99% больший доход для магазина, по сравнению со старой. Гипотезу H0 отвергаем"
   ]
  },
  {
   "cell_type": "markdown",
   "id": "63061017-8488-4bb9-9e52-ea5b4f566124",
   "metadata": {},
   "source": [
    "## Дополнительное исследование"
   ]
  },
  {
   "cell_type": "markdown",
   "id": "b5f3cd83-2385-4042-bd78-28ddd09a7eef",
   "metadata": {},
   "source": [
    "Проверяем гипотезу о равенстве дисперсий в группах"
   ]
  },
  {
   "cell_type": "code",
   "execution_count": 47,
   "id": "719f92b2-3553-4ece-9b1e-340f2ace5ae2",
   "metadata": {},
   "outputs": [],
   "source": [
    "stat, p = stats.levene(group_c, group_t)"
   ]
  },
  {
   "cell_type": "code",
   "execution_count": 48,
   "id": "601581c7-903c-44e9-9b3e-d041e943c99b",
   "metadata": {},
   "outputs": [
    {
     "data": {
      "text/plain": [
       "(np.float64(358.95886635880174), np.float64(9.424935497280903e-74))"
      ]
     },
     "execution_count": 48,
     "metadata": {},
     "output_type": "execute_result"
    }
   ],
   "source": [
    "stat, p"
   ]
  },
  {
   "cell_type": "markdown",
   "id": "016efa67-6392-42aa-b50d-76d7e81bf74b",
   "metadata": {},
   "source": [
    "Видим, что p близко к нулю, значит отвергаем гипотезу о том, что дисперсии групп равны. В таком случае использует t-тест Уэлча"
   ]
  },
  {
   "cell_type": "code",
   "execution_count": 49,
   "id": "416be37d-d4ec-4230-bad2-9b61d3e631dc",
   "metadata": {},
   "outputs": [],
   "source": [
    "t_stat, p_value = stats.ttest_ind(group_c, group_t, equal_var=True)"
   ]
  },
  {
   "cell_type": "code",
   "execution_count": 50,
   "id": "1400e1fa-47da-4a9d-a00e-76e09db266f8",
   "metadata": {},
   "outputs": [
    {
     "data": {
      "text/plain": [
       "(np.float64(-500.88080339495923), np.float64(0.0))"
      ]
     },
     "execution_count": 50,
     "metadata": {},
     "output_type": "execute_result"
    }
   ],
   "source": [
    "t_stat, p_value"
   ]
  },
  {
   "cell_type": "markdown",
   "id": "8ac02cef-a915-4ab5-adc9-c50520579cae",
   "metadata": {},
   "source": [
    "Получено значение p_value = 0.0, значит в среднем выборки не показывают равенства доходов для магазина, а следовательно нулевую гипотезу H0 отвергаем"
   ]
  }
 ],
 "metadata": {
  "kernelspec": {
   "display_name": "Python 3 (ipykernel)",
   "language": "python",
   "name": "python3"
  },
  "language_info": {
   "codemirror_mode": {
    "name": "ipython",
    "version": 3
   },
   "file_extension": ".py",
   "mimetype": "text/x-python",
   "name": "python",
   "nbconvert_exporter": "python",
   "pygments_lexer": "ipython3",
   "version": "3.13.1"
  }
 },
 "nbformat": 4,
 "nbformat_minor": 5
}
